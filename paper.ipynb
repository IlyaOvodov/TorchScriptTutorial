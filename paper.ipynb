{
 "cells": [
  {
   "cell_type": "markdown",
   "metadata": {},
   "source": [
    "# Как подружить PyTotch и C++ и отправить счастливую пару в конечное решение. Используем TorchScript."
   ]
  },
  {
   "cell_type": "markdown",
   "metadata": {},
   "source": [
    "Около года назад разработчики PyTorch представили сообществу инструмент, который позволяет с помощью пары строк кода и\n",
    "нескольких щелчков мыши сделать из пайплайна на питоне отчуждаемое решение, которое можно встроить в систему на  C++ - \n",
    "**TorchScript**. Ниже я делюсь опытом его использования и постараюсь описать\n",
    "встречающиеся на этом пути подводные камни. Особенное внимание уделю реализации проекта на Windows, поскольку, хотя \n",
    "исследования в ML обычное делается на Ubuntu, конечное решение часто (внезапно!) требуется под \"окошками\". \n",
    "\n",
    "![](pics/box.png)\n",
    "\n",
    "TODO Картинка. Кликабельная."
   ]
  },
  {
   "cell_type": "markdown",
   "metadata": {},
   "source": [
    "Разработчики PyTorch не обманули. Новый инструмент действительно позволяет превратить исследовательский проект на\n",
    "PyTorch в код, встраиваемый в систему на С++, за пару рабочих дней, а при некотором навыке и быстрее.\n",
    "\n",
    "TorchScript появился в PyTorch версии 1.0  и продолжает развиваться и меняться. Если первая версия годичной давности\n",
    "была полна багов и являлась скорее экспериментальной, то актуальная версия на данный момент версия 1.3 как минимум \n",
    "по второму пункту заметно отличается: экспериментальной ее уже не назовешь, она вполне пригодна для практического \n",
    "использования. Я буду ориентироваться на нее.\n",
    "\n",
    "В основе TorchScript лежит собственный автономный (не требующий наличие python) компилятор питон-подобного языка, \n",
    "а также средства для конвертации в него программы, написанной на python + PyTorch, методы сохранения и загрузки получившихся\n",
    "модулей и библиотека для их использования в C++. Для работы придется добавить в проект несколько DLL общим весом около\n",
    "70MB для работы на CPU и 300MB для GPU версии (это для Windows). TorchScript поддерживает большинство функций PyTorch\n",
    "и основные возможности языка python. А вот о сторонних библиотеках, таких как OpenCV или NumPy, придется забыть.\n",
    "К счастью, у многих функций из NumPy есть аналог в pytorch.\n",
    "\n",
    "## Конвертируем пайплайн на PyTorch модель на TorchScript\n",
    "\n",
    "TorchScript предлагает два способа преобразования кода на python в его внутренний формат: tracing и scripting\n",
    "(трассировка и скриптование). Зачем два? Нет, понятно, конечно, что два лучше чем один...\n",
    "\n",
    "![](pics/4em-boljshe-sdadim-tem-lu4she.jpg)\n",
    "\n",
    "Но в случае с этими методами получается как в известном афоризме про левый и правый уклон: оба хуже. Что ж, мир\n",
    "несовершенен. Просто в конкретной ситуации надо выбирать тот, который больше подходит.\n",
    "\n",
    "Метод трассировки очень прост. Берется некий образец данных (обычно инициализированный случайными числами),\n",
    "отправляется в интересующую нас функцию или метод класса и PyTorch строит и запоминает граф вычислений примерно так же,\n",
    "как делает это обычно при обучении нейросети. Вуаля - скрипт готов: "
   ]
  },
  {
   "cell_type": "code",
   "execution_count": null,
   "metadata": {},
   "outputs": [],
   "source": [
    "import torch\n",
    "import torchvision\n",
    "model = torchvision.models.resnet34(pretrained = True)\n",
    "model.eval()\n",
    "sample = torch.rand(1, 3, 224, 224)\n",
    "scripted_model = torch.jit.trace(model, sample)"
   ]
  },
  {
   "cell_type": "markdown",
   "metadata": {},
   "source": [
    "В примере выше получается объект класса ScriptModule. Его можно сохранить"
   ]
  },
  {
   "cell_type": "code",
   "execution_count": 2,
   "metadata": {},
   "outputs": [],
   "source": [
    "scripted_model.save('resnet34_script.pth')"
   ]
  },
  {
   "cell_type": "markdown",
   "metadata": {},
   "source": [
    "и загрузить потом в программу на C++ (об этом ниже) или в код на python вместо исходного объекта:\n"
   ]
  },
  {
   "cell_type": "code",
   "execution_count": 3,
   "metadata": {},
   "outputs": [],
   "source": [
    "import cv2\n",
    "from torchvision.transforms import Compose, ToTensor, Normalize\n",
    "transforms = Compose([ToTensor(), Normalize(mean=[0.485, 0.456, 0.406], std=[0.229, 0.224, 0.225])])\n",
    "img = cv2.resize(cv2.imread('pics/cat.jpg'), (224,224))\n",
    "img = cv2.cvtColor(img, cv2.COLOR_BGR2RGB)\n",
    "x = transforms(img).unsqueeze(0) # add batch dimension"
   ]
  },
  {
   "cell_type": "code",
   "execution_count": 4,
   "metadata": {},
   "outputs": [],
   "source": [
    "scripted_model = torch.jit.load('resnet34_script.pth')\n",
    "y = scripted_model(x)"
   ]
  },
  {
   "cell_type": "code",
   "execution_count": 5,
   "metadata": {},
   "outputs": [
    {
     "name": "stdout",
     "output_type": "stream",
     "text": [
      "tensor(282) tensor(12.8130, grad_fn=<SelectBackward>)\n"
     ]
    }
   ],
   "source": [
    "print(y[0].argmax(), y[0][y[0].argmax()])"
   ]
  },
  {
   "cell_type": "markdown",
   "metadata": {},
   "source": [
    "Получающийся объект `ScriptModule` может выступать везде, где обычно используется `nn.Module`.\n",
    "\n",
    "Описанным сповобом можно трассировать экземпляры класса `nn.Module` и функции (в последнем случае получается экземпляр класса `torch._C.Function`)\n",
    "\n",
    "Этот метод (tracing) имеет важное преимущество: так можно конвертировать почти любой питоновский код, не использующий внешних библиотек. Но есть и не менее важный недостаток: при любых ветвлениях будет запомнена только та ветка, котора исполнялась на тестовых данных:"
   ]
  },
  {
   "cell_type": "code",
   "execution_count": 6,
   "metadata": {},
   "outputs": [
    {
     "name": "stderr",
     "output_type": "stream",
     "text": [
      "c:\\miniconda3\\lib\\site-packages\\ipykernel_launcher.py:2: TracerWarning: Converting a tensor to a Python boolean might cause the trace to be incorrect. We can't record the data flow of Python values, so this value will be treated as a constant in the future. This means that the trace might not generalize to other inputs!\n",
      "  \n"
     ]
    },
    {
     "name": "stdout",
     "output_type": "stream",
     "text": [
      "tensor(1) tensor(-1)\n"
     ]
    }
   ],
   "source": [
    "def my_abs(x):\n",
    "    if x.max() >= 0:\n",
    "        return x\n",
    "    else:\n",
    "        return -x\n",
    "my_abs_traced = torch.jit.trace(my_abs, torch.tensor(0))\n",
    "print(my_abs_traced(torch.tensor(1)), my_abs_traced(torch.tensor(-1)))"
   ]
  },
  {
   "cell_type": "markdown",
   "metadata": {},
   "source": [
    "Упс! Кажется, это не то, что мы хотели бы, правда? Хорошо, что по этому поводу хотя бы выдаётся предупреждающее сообщение\n",
    "(TracerWarning) Относитесь к таким сообщениям внимательно.\n",
    "\n",
    "Тут нам на помощь приходит второй метод - scripting:"
   ]
  },
  {
   "cell_type": "code",
   "execution_count": 7,
   "metadata": {},
   "outputs": [
    {
     "name": "stdout",
     "output_type": "stream",
     "text": [
      "tensor(1) tensor(1)\n"
     ]
    }
   ],
   "source": [
    "my_abs_script = torch.jit.script(my_abs)\n",
    "print(my_abs_script(torch.tensor(1)), my_abs_script(torch.tensor(-1)))"
   ]
  },
  {
   "cell_type": "markdown",
   "metadata": {},
   "source": [
    "Ура, ожидаемый результат получен! Scripting рекурсивно анализирует код на python и преобразует в код на собственном языке.\n",
    "На выходе получаем тот же класс `ScriptModule` (для модулей) или `torch._C.Functio`(для функций) . Казалось бы, счастье есть!\n",
    "Но возникает другая проблема: внутренний язык TorchScript строго типизированный, в отличие от python.\n",
    "Тип каждой переменной определяется первым присваиванием, тип аргументов функции по умолчанию - `Tensor`. Поэтому, например, привычный шаблон "
   ]
  },
  {
   "cell_type": "code",
   "execution_count": 8,
   "metadata": {},
   "outputs": [],
   "source": [
    "def my_func(x):\n",
    "    y = None\n",
    "    if x.max() > 0:\n",
    "        y = x\n",
    "    return y"
   ]
  },
  {
   "cell_type": "markdown",
   "metadata": {},
   "source": [
    "оттассировать не удастся:"
   ]
  },
  {
   "cell_type": "code",
   "execution_count": 9,
   "metadata": {},
   "outputs": [
    {
     "ename": "RuntimeError",
     "evalue": "\nVariable 'y' previously has type None but is now being assigned to a value of type Tensor\n:\nat <ipython-input-8-75677614fca6>:4:8\ndef my_func(x):\n    y = None\n    if x.max() > 0:\n        y = x\n        ~ <--- HERE\n    return y\n",
     "output_type": "error",
     "traceback": [
      "\u001b[1;31m---------------------------------------------------------------------------\u001b[0m",
      "\u001b[1;31mRuntimeError\u001b[0m                              Traceback (most recent call last)",
      "\u001b[1;32m<ipython-input-9-25414183a687>\u001b[0m in \u001b[0;36m<module>\u001b[1;34m()\u001b[0m\n\u001b[1;32m----> 1\u001b[1;33m \u001b[0mmy_func\u001b[0m \u001b[1;33m=\u001b[0m \u001b[0mtorch\u001b[0m\u001b[1;33m.\u001b[0m\u001b[0mjit\u001b[0m\u001b[1;33m.\u001b[0m\u001b[0mscript\u001b[0m\u001b[1;33m(\u001b[0m\u001b[0mmy_func\u001b[0m\u001b[1;33m)\u001b[0m\u001b[1;33m\u001b[0m\u001b[0m\n\u001b[0m",
      "\u001b[1;32md:\\programming\\3rd_party\\pytorch\\pytorch_ovod_1.3.0a0_de394b6\\torch\\jit\\__init__.py\u001b[0m in \u001b[0;36mscript\u001b[1;34m(obj, optimize, _frames_up, _rcb)\u001b[0m\n\u001b[0;32m   1224\u001b[0m         \u001b[1;32mif\u001b[0m \u001b[0m_rcb\u001b[0m \u001b[1;32mis\u001b[0m \u001b[1;32mNone\u001b[0m\u001b[1;33m:\u001b[0m\u001b[1;33m\u001b[0m\u001b[0m\n\u001b[0;32m   1225\u001b[0m             \u001b[0m_rcb\u001b[0m \u001b[1;33m=\u001b[0m \u001b[0m_gen_rcb\u001b[0m\u001b[1;33m(\u001b[0m\u001b[0mobj\u001b[0m\u001b[1;33m,\u001b[0m \u001b[0m_frames_up\u001b[0m\u001b[1;33m)\u001b[0m\u001b[1;33m\u001b[0m\u001b[0m\n\u001b[1;32m-> 1226\u001b[1;33m         \u001b[0mfn\u001b[0m \u001b[1;33m=\u001b[0m \u001b[0mtorch\u001b[0m\u001b[1;33m.\u001b[0m\u001b[0m_C\u001b[0m\u001b[1;33m.\u001b[0m\u001b[0m_jit_script_compile\u001b[0m\u001b[1;33m(\u001b[0m\u001b[0mqualified_name\u001b[0m\u001b[1;33m,\u001b[0m \u001b[0mast\u001b[0m\u001b[1;33m,\u001b[0m \u001b[0m_rcb\u001b[0m\u001b[1;33m,\u001b[0m \u001b[0mget_default_args\u001b[0m\u001b[1;33m(\u001b[0m\u001b[0mobj\u001b[0m\u001b[1;33m)\u001b[0m\u001b[1;33m)\u001b[0m\u001b[1;33m\u001b[0m\u001b[0m\n\u001b[0m\u001b[0;32m   1227\u001b[0m         \u001b[1;31m# Forward docstrings\u001b[0m\u001b[1;33m\u001b[0m\u001b[1;33m\u001b[0m\u001b[0m\n\u001b[0;32m   1228\u001b[0m         \u001b[0mfn\u001b[0m\u001b[1;33m.\u001b[0m\u001b[0m__doc__\u001b[0m \u001b[1;33m=\u001b[0m \u001b[0mobj\u001b[0m\u001b[1;33m.\u001b[0m\u001b[0m__doc__\u001b[0m\u001b[1;33m\u001b[0m\u001b[0m\n",
      "\u001b[1;31mRuntimeError\u001b[0m: \nVariable 'y' previously has type None but is now being assigned to a value of type Tensor\n:\nat <ipython-input-8-75677614fca6>:4:8\ndef my_func(x):\n    y = None\n    if x.max() > 0:\n        y = x\n        ~ <--- HERE\n    return y\n"
     ]
    }
   ],
   "source": [
    "my_func = torch.jit.script(my_func)"
   ]
  },
  {
   "cell_type": "markdown",
   "metadata": {},
   "source": [
    "Даже точки после констант начинают играть роль:"
   ]
  },
  {
   "cell_type": "code",
   "execution_count": 10,
   "metadata": {},
   "outputs": [
    {
     "ename": "RuntimeError",
     "evalue": "bool value of Tensor with more than one value is ambiguous",
     "output_type": "error",
     "traceback": [
      "\u001b[1;31m---------------------------------------------------------------------------\u001b[0m",
      "\u001b[1;31mRuntimeError\u001b[0m                              Traceback (most recent call last)",
      "\u001b[1;32m<ipython-input-10-0a5f18586763>\u001b[0m in \u001b[0;36m<module>\u001b[1;34m()\u001b[0m\n\u001b[0;32m      5\u001b[0m         \u001b[0my\u001b[0m \u001b[1;33m=\u001b[0m \u001b[1;36m0\u001b[0m\u001b[1;33m\u001b[0m\u001b[0m\n\u001b[0;32m      6\u001b[0m     \u001b[1;32mreturn\u001b[0m \u001b[0my\u001b[0m\u001b[1;33m\u001b[0m\u001b[0m\n\u001b[1;32m----> 7\u001b[1;33m \u001b[0mmy_func\u001b[0m \u001b[1;33m=\u001b[0m \u001b[0mtorch\u001b[0m\u001b[1;33m.\u001b[0m\u001b[0mjit\u001b[0m\u001b[1;33m.\u001b[0m\u001b[0mscript\u001b[0m\u001b[1;33m(\u001b[0m\u001b[0mmy_func\u001b[0m\u001b[1;33m)\u001b[0m\u001b[1;33m\u001b[0m\u001b[0m\n\u001b[0m",
      "\u001b[1;32md:\\programming\\3rd_party\\pytorch\\pytorch_ovod_1.3.0a0_de394b6\\torch\\jit\\__init__.py\u001b[0m in \u001b[0;36mscript\u001b[1;34m(obj, optimize, _frames_up, _rcb)\u001b[0m\n\u001b[0;32m   1224\u001b[0m         \u001b[1;32mif\u001b[0m \u001b[0m_rcb\u001b[0m \u001b[1;32mis\u001b[0m \u001b[1;32mNone\u001b[0m\u001b[1;33m:\u001b[0m\u001b[1;33m\u001b[0m\u001b[0m\n\u001b[0;32m   1225\u001b[0m             \u001b[0m_rcb\u001b[0m \u001b[1;33m=\u001b[0m \u001b[0m_gen_rcb\u001b[0m\u001b[1;33m(\u001b[0m\u001b[0mobj\u001b[0m\u001b[1;33m,\u001b[0m \u001b[0m_frames_up\u001b[0m\u001b[1;33m)\u001b[0m\u001b[1;33m\u001b[0m\u001b[0m\n\u001b[1;32m-> 1226\u001b[1;33m         \u001b[0mfn\u001b[0m \u001b[1;33m=\u001b[0m \u001b[0mtorch\u001b[0m\u001b[1;33m.\u001b[0m\u001b[0m_C\u001b[0m\u001b[1;33m.\u001b[0m\u001b[0m_jit_script_compile\u001b[0m\u001b[1;33m(\u001b[0m\u001b[0mqualified_name\u001b[0m\u001b[1;33m,\u001b[0m \u001b[0mast\u001b[0m\u001b[1;33m,\u001b[0m \u001b[0m_rcb\u001b[0m\u001b[1;33m,\u001b[0m \u001b[0mget_default_args\u001b[0m\u001b[1;33m(\u001b[0m\u001b[0mobj\u001b[0m\u001b[1;33m)\u001b[0m\u001b[1;33m)\u001b[0m\u001b[1;33m\u001b[0m\u001b[0m\n\u001b[0m\u001b[0;32m   1227\u001b[0m         \u001b[1;31m# Forward docstrings\u001b[0m\u001b[1;33m\u001b[0m\u001b[1;33m\u001b[0m\u001b[0m\n\u001b[0;32m   1228\u001b[0m         \u001b[0mfn\u001b[0m\u001b[1;33m.\u001b[0m\u001b[0m__doc__\u001b[0m \u001b[1;33m=\u001b[0m \u001b[0mobj\u001b[0m\u001b[1;33m.\u001b[0m\u001b[0m__doc__\u001b[0m\u001b[1;33m\u001b[0m\u001b[0m\n",
      "\u001b[1;32md:\\programming\\3rd_party\\pytorch\\pytorch_ovod_1.3.0a0_de394b6\\torch\\jit\\__init__.py\u001b[0m in \u001b[0;36m_rcb\u001b[1;34m(name)\u001b[0m\n\u001b[0;32m   1240\u001b[0m         \u001b[1;31m# closure rcb fails\u001b[0m\u001b[1;33m\u001b[0m\u001b[1;33m\u001b[0m\u001b[0m\n\u001b[0;32m   1241\u001b[0m         \u001b[0mresult\u001b[0m \u001b[1;33m=\u001b[0m \u001b[0mclosure_rcb\u001b[0m\u001b[1;33m(\u001b[0m\u001b[0mname\u001b[0m\u001b[1;33m)\u001b[0m\u001b[1;33m\u001b[0m\u001b[0m\n\u001b[1;32m-> 1242\u001b[1;33m         \u001b[1;32mif\u001b[0m \u001b[0mresult\u001b[0m\u001b[1;33m:\u001b[0m\u001b[1;33m\u001b[0m\u001b[0m\n\u001b[0m\u001b[0;32m   1243\u001b[0m             \u001b[1;32mreturn\u001b[0m \u001b[0mresult\u001b[0m\u001b[1;33m\u001b[0m\u001b[0m\n\u001b[0;32m   1244\u001b[0m         \u001b[1;32mreturn\u001b[0m \u001b[0mstack_rcb\u001b[0m\u001b[1;33m(\u001b[0m\u001b[0mname\u001b[0m\u001b[1;33m)\u001b[0m\u001b[1;33m\u001b[0m\u001b[0m\n",
      "\u001b[1;31mRuntimeError\u001b[0m: bool value of Tensor with more than one value is ambiguous"
     ]
    }
   ],
   "source": [
    "def my_func(x):\n",
    "    if x.max() > 0:\n",
    "        y = 1.25\n",
    "    else:\n",
    "        y = 0\n",
    "    return y\n",
    "my_func = torch.jit.script(my_func)"
   ]
  },
  {
   "cell_type": "markdown",
   "metadata": {},
   "source": [
    "Потому что надо писать не `0`, а `0.`, чтобы тип в обеих ветках был одинаковым! Избаловались, понимаешь, со своим питоном!"
   ]
  },
  {
   "cell_type": "markdown",
   "metadata": {},
   "source": [
    "Это только начало списка тех изменений, которые требуется внести в код на python, чтобы его можно было успешно превратить\n",
    "в модуль TorchScript. Более подробно самые типичные случаи перечислю чуть позже. В принципе, никакой rocket science тут нет\n",
    "и свой код вполне можно поправить соответстветствующим образом. А вот исправлять сторонние модули, включая стандартные из\n",
    "`torchvision`, чаще всего править не хочется, а \"как есть\" для скриптования они обычно не пригодны.\n",
    "\n",
    "К счастью, обе технологии можно совмещать: то, что скриптуется - скриптовать, а что не скриптуется - трассировать:"
   ]
  },
  {
   "cell_type": "code",
   "execution_count": 84,
   "metadata": {},
   "outputs": [],
   "source": [
    "class MyModule(torch.nn.Module):\n",
    "    def __init__(self):\n",
    "        super(MyModule, self).__init__()\n",
    "        self.resnet = torchvision.models.resnet34(pretrained = True)\n",
    "        # без следующих двух строк попытка сделать torch.jit.script(my_module) ниже выдаст ошибку \n",
    "        # где-то в недрах resnet34. Поэтому заблаговременно сами заменим self.resnet на ScriptModule.\n",
    "        self.resnet.eval() # NB: это надо сделать до трассировки! После трассировки не сработает!\n",
    "        self.resnet = torch.jit.trace(self.resnet, torch.rand((1,3,224,224), dtype=torch.float))\n",
    "    def forward(self, x):\n",
    "        if x.shape[2] < 224 or x.shape[3] < 224:\n",
    "            return torch.tensor(0)\n",
    "        else:\n",
    "            return self.resnet(x)\n",
    "my_module = MyModule()\n",
    "my_module = torch.jit.script(my_module)"
   ]
  },
  {
   "cell_type": "code",
   "execution_count": null,
   "metadata": {},
   "outputs": [],
   "source": []
  },
  {
   "cell_type": "code",
   "execution_count": null,
   "metadata": {},
   "outputs": [],
   "source": []
  },
  {
   "cell_type": "code",
   "execution_count": null,
   "metadata": {},
   "outputs": [],
   "source": []
  },
  {
   "cell_type": "code",
   "execution_count": null,
   "metadata": {},
   "outputs": [],
   "source": []
  },
  {
   "cell_type": "markdown",
   "metadata": {},
   "source": [
    "![](pics/Minesweeper - mario.jpg)"
   ]
  },
  {
   "cell_type": "code",
   "execution_count": null,
   "metadata": {},
   "outputs": [],
   "source": []
  },
  {
   "cell_type": "markdown",
   "metadata": {},
   "source": [
    "![](pics/grabli.jpg)"
   ]
  },
  {
   "cell_type": "markdown",
   "metadata": {},
   "source": [
    "[![](pics/train_mode.png)](http://qaru.site/questions/16769103/error-when-converting-pytorch-model-to-torchscript)"
   ]
  }
 ],
 "metadata": {
  "kernelspec": {
   "display_name": "Python 3",
   "language": "python",
   "name": "python3"
  },
  "language_info": {
   "codemirror_mode": {
    "name": "ipython",
    "version": 3
   },
   "file_extension": ".py",
   "mimetype": "text/x-python",
   "name": "python",
   "nbconvert_exporter": "python",
   "pygments_lexer": "ipython3",
   "version": "3.6.4"
  }
 },
 "nbformat": 4,
 "nbformat_minor": 2
}
